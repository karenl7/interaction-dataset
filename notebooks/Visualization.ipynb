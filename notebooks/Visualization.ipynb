{
 "cells": [
  {
   "cell_type": "code",
   "execution_count": 1,
   "metadata": {},
   "outputs": [],
   "source": [
    "import os\n",
    "import sys\n",
    "sys.path.insert(0, '..')\n",
    "sys.path.insert(0, '../python')\n",
    "\n",
    "\n",
    "import time\n",
    "import matplotlib.pyplot as plt\n",
    "from matplotlib.widgets import Button"
   ]
  },
  {
   "cell_type": "code",
   "execution_count": 2,
   "metadata": {},
   "outputs": [],
   "source": [
    "import time\n",
    "import matplotlib.pyplot as plt\n",
    "# from matplotlib.widgets import Button\n",
    "\n",
    "from utils import map_vis_without_lanelet\n",
    "from utils import dataset_reader\n",
    "from utils import dataset_types\n",
    "from utils import map_vis_lanelet2\n",
    "from utils import tracks_vis\n",
    "from utils import dict_utils\n",
    "\n",
    "# from main_visualize_data import FrameControlButton, update_plot\n",
    "from ipywidgets import interact, interactive, fixed, interact_manual\n",
    "import ipywidgets as widgets "
   ]
  },
  {
   "cell_type": "code",
   "execution_count": 3,
   "metadata": {},
   "outputs": [],
   "source": [
    "import matplotlib \n",
    "matplotlib.rc('xtick', labelsize=20) \n",
    "matplotlib.rc('ytick', labelsize=20)"
   ]
  },
  {
   "cell_type": "code",
   "execution_count": 23,
   "metadata": {},
   "outputs": [],
   "source": [
    "scene_names = { 1: \"TC_BGR_Intersection_VA\",\n",
    "                2: \"DR_CHN_Merging_ZS\",\n",
    "                3: \"DR_CHN_Roundabout_LN\",\n",
    "                4: \"DR_DEU_Merging_MT\",\n",
    "                5: \"DR_DEU_Roundabout_OF\",\n",
    "                6: \"DR_USA_Intersection_EP0\",\n",
    "                7: \"DR_USA_Intersection_EP1\",\n",
    "                8: \"DR_USA_Intersection_GL\",\n",
    "                9: \"DR_USA_Intersection_MA\",\n",
    "                10: \"DR_USA_Roundabout_EP\",\n",
    "                11: \"DR_USA_Roundabout_FT\",\n",
    "                12: \"DR_USA_Roundabout_SR\"}"
   ]
  },
  {
   "cell_type": "markdown",
   "metadata": {},
   "source": [
    "## Selecting data file"
   ]
  },
  {
   "cell_type": "code",
   "execution_count": 24,
   "metadata": {},
   "outputs": [],
   "source": [
    "scenario_name = scene_names[8]\n",
    "\n",
    "\n",
    "track_file_number = 0\n",
    "use_lanelet2_lib = False"
   ]
  },
  {
   "cell_type": "code",
   "execution_count": 25,
   "metadata": {},
   "outputs": [],
   "source": [
    "error_string = \"\"\n",
    "tracks_dir = \"../recorded_trackfiles\"\n",
    "maps_dir = \"../maps\"\n",
    "lanelet_map_ending = \".osm\"\n",
    "lanelet_map_file = maps_dir + \"/\" + scenario_name + lanelet_map_ending\n",
    "scenario_dir = tracks_dir + \"/\" + scenario_name\n",
    "track_file_prefix = \"vehicle_tracks_\"\n",
    "track_file_ending = \".csv\"\n",
    "track_file_name = scenario_dir + \"/\" + track_file_prefix + str(track_file_number).zfill(3) + track_file_ending\n",
    "if not os.path.isdir(tracks_dir):\n",
    "    error_string += \"Did not find track file directory \\\"\" + tracks_dir + \"\\\"\\n\"\n",
    "if not os.path.isdir(maps_dir):\n",
    "    error_string += \"Did not find map file directory \\\"\" + tracks_dir + \"\\\"\\n\"\n",
    "if not os.path.isdir(scenario_dir):\n",
    "    error_string += \"Did not find scenario directory \\\"\" + scenario_dir + \"\\\"\\n\"\n",
    "if not os.path.isfile(lanelet_map_file):\n",
    "    error_string += \"Did not find lanelet map file \\\"\" + lanelet_map_file + \"\\\"\\n\"\n",
    "if not os.path.isfile(track_file_name):\n",
    "    error_string += \"Did not find track file \\\"\" + track_file_name + \"\\\"\\n\"\n",
    "if error_string != \"\":\n",
    "    error_string += \"Type --help for help.\"\n",
    "    raise IOError(error_string)\n",
    "\n"
   ]
  },
  {
   "cell_type": "code",
   "execution_count": 26,
   "metadata": {},
   "outputs": [],
   "source": [
    "track_dictionary = dataset_reader.read_tracks(track_file_name)\n",
    "\n",
    "timestamp_min = 1e9\n",
    "timestamp_max = 0\n",
    "for key, track in dict_utils.get_item_iterator(track_dictionary):\n",
    "    timestamp_min = min(timestamp_min, track.time_stamp_ms_first)\n",
    "    timestamp_max = max(timestamp_max, track.time_stamp_ms_last)"
   ]
  },
  {
   "cell_type": "code",
   "execution_count": 27,
   "metadata": {},
   "outputs": [
    {
     "data": {
      "application/vnd.jupyter.widget-view+json": {
       "model_id": "78a615982c8148d091b31c120c2dbdae",
       "version_major": 2,
       "version_minor": 0
      },
      "text/plain": [
       "interactive(children=(IntSlider(value=100, description='t', max=300800, min=100, step=100), Output()), _dom_cl…"
      ]
     },
     "metadata": {},
     "output_type": "display_data"
    }
   ],
   "source": [
    "\n",
    "# create a figure\n",
    "\n",
    "def g(t, idxs): \n",
    "    fig = plt.figure(figsize=(15, 15))\n",
    "    axes = plt.axes()\n",
    "\n",
    "    # load and draw the lanelet2 map, either with or without the lanelet2 library\n",
    "    lat_origin = 0.  # origin is necessary to correctly project the lat lon values in the osm file to the local\n",
    "    lon_origin = 0.  # coordinates in which the tracks are provided; we decided to use (0|0) for every scenario\n",
    "#     print(\"Loading map...\")\n",
    "    if use_lanelet2_lib:\n",
    "        projector = lanelet2.projection.UtmProjector(lanelet2.io.Origin(lat_origin, lon_origin))\n",
    "        laneletmap = lanelet2.io.load(lanelet_map_file, projector)\n",
    "        map_vis_lanelet2.draw_lanelet_map(laneletmap, axes)\n",
    "    else:\n",
    "        map_vis_without_lanelet.draw_map_without_lanelet(lanelet_map_file, axes, lat_origin, lon_origin)\n",
    "\n",
    "\n",
    "    # load the tracks\n",
    "    track_dictionary = dataset_reader.read_tracks(track_file_name)\n",
    "\n",
    "    timestamp_min = 1e9\n",
    "    timestamp_max = 0\n",
    "    for key, track in dict_utils.get_item_iterator(track_dictionary):\n",
    "        timestamp_min = min(timestamp_min, track.time_stamp_ms_first)\n",
    "        timestamp_max = max(timestamp_max, track.time_stamp_ms_last)\n",
    "    start_timestamp = timestamp_min\n",
    "\n",
    "    # storage for track visualization\n",
    "    patches_dict = dict()\n",
    "    text_dict = dict()\n",
    "\n",
    "\n",
    "    # visualize tracks\n",
    "    timestamp = t\n",
    "    axes.set_title(\"\\nts = {}\".format(timestamp), fontsize=26)\n",
    "    tracks_vis.update_objects_plot(timestamp, track_dictionary, patches_dict, text_dict, axes, idxs=idxs)\n",
    "    plt.show()\n",
    "\n",
    "interact(g, t=widgets.IntSlider(min=timestamp_min, max=timestamp_max, step=100, value=0), idxs=fixed([1,2]));\n"
   ]
  },
  {
   "cell_type": "code",
   "execution_count": null,
   "metadata": {},
   "outputs": [],
   "source": []
  }
 ],
 "metadata": {
  "kernelspec": {
   "display_name": "Python 3.7 (interaction-dataset)",
   "language": "python",
   "name": "interaction-env"
  },
  "language_info": {
   "codemirror_mode": {
    "name": "ipython",
    "version": 3
   },
   "file_extension": ".py",
   "mimetype": "text/x-python",
   "name": "python",
   "nbconvert_exporter": "python",
   "pygments_lexer": "ipython3",
   "version": "3.7.7"
  }
 },
 "nbformat": 4,
 "nbformat_minor": 4
}
